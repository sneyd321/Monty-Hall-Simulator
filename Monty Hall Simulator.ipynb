{
 "cells": [
  {
   "cell_type": "code",
   "execution_count": 2,
   "metadata": {},
   "outputs": [
    {
     "data": {
      "text/html": [
       "<div>\n",
       "<style>\n",
       "    .dataframe thead tr:only-child th {\n",
       "        text-align: right;\n",
       "    }\n",
       "\n",
       "    .dataframe thead th {\n",
       "        text-align: left;\n",
       "    }\n",
       "\n",
       "    .dataframe tbody tr th {\n",
       "        vertical-align: top;\n",
       "    }\n",
       "</style>\n",
       "<table border=\"1\" class=\"dataframe\">\n",
       "  <thead>\n",
       "    <tr style=\"text-align: right;\">\n",
       "      <th></th>\n",
       "      <th>trial</th>\n",
       "      <th>prize</th>\n",
       "      <th>initial</th>\n",
       "      <th>revealed</th>\n",
       "      <th>final</th>\n",
       "    </tr>\n",
       "  </thead>\n",
       "  <tbody>\n",
       "    <tr>\n",
       "      <th>0</th>\n",
       "      <td>1</td>\n",
       "      <td>2</td>\n",
       "      <td>3</td>\n",
       "      <td>1</td>\n",
       "      <td>3</td>\n",
       "    </tr>\n",
       "    <tr>\n",
       "      <th>1</th>\n",
       "      <td>2</td>\n",
       "      <td>2</td>\n",
       "      <td>2</td>\n",
       "      <td>1</td>\n",
       "      <td>3</td>\n",
       "    </tr>\n",
       "    <tr>\n",
       "      <th>2</th>\n",
       "      <td>3</td>\n",
       "      <td>3</td>\n",
       "      <td>2</td>\n",
       "      <td>1</td>\n",
       "      <td>3</td>\n",
       "    </tr>\n",
       "    <tr>\n",
       "      <th>3</th>\n",
       "      <td>4</td>\n",
       "      <td>2</td>\n",
       "      <td>2</td>\n",
       "      <td>3</td>\n",
       "      <td>2</td>\n",
       "    </tr>\n",
       "    <tr>\n",
       "      <th>4</th>\n",
       "      <td>5</td>\n",
       "      <td>3</td>\n",
       "      <td>2</td>\n",
       "      <td>1</td>\n",
       "      <td>2</td>\n",
       "    </tr>\n",
       "  </tbody>\n",
       "</table>\n",
       "</div>"
      ],
      "text/plain": [
       "   trial  prize  initial  revealed  final\n",
       "0      1      2        3         1      3\n",
       "1      2      2        2         1      3\n",
       "2      3      3        2         1      3\n",
       "3      4      2        2         3      2\n",
       "4      5      3        2         1      2"
      ]
     },
     "execution_count": 2,
     "metadata": {},
     "output_type": "execute_result"
    }
   ],
   "source": [
    "#Assignment 2 for Statistics for Data Science\n",
    "#MATH37198 - Ryan Sneyd\n",
    "import numpy as np\n",
    "import pandas as pd\n",
    "\n",
    "\n",
    "data = pd.read_csv(\"C:\\\\Users\\\\Ryan\\\\Downloads\\\\MATH37198_Assignment2_Individual\\\\Monty_Hall_3door.csv\")\n",
    "data.head()"
   ]
  },
  {
   "cell_type": "code",
   "execution_count": 3,
   "metadata": {},
   "outputs": [
    {
     "name": "stdout",
     "output_type": "stream",
     "text": [
      "The percentage of trials the contestant chooses correctly is: 32.99%\n"
     ]
    }
   ],
   "source": [
    "#In what percentage of the trials does the contestant choose the door with the prize?\n",
    "#set variable to count all the times the contestant stayed with their choice \n",
    "counter = 0\n",
    "\n",
    "#For every value of initial and prize\n",
    "for i in range(1, len(data)):\n",
    "    #If the values match add 1 to counter\n",
    "    if data[\"prize\"].values.item(i) == data[\"initial\"].values.item(i):\n",
    "       counter += 1 \n",
    "#Total number of values in the table \n",
    "total = len(data)\n",
    "\n",
    "#Output\n",
    "print(\"The percentage of trials the contestant chooses correctly is: \" + str(round((counter/total)*100, 2))+\"%\")\n"
   ]
  },
  {
   "cell_type": "code",
   "execution_count": 4,
   "metadata": {},
   "outputs": [
    {
     "name": "stdout",
     "output_type": "stream",
     "text": [
      "The percentage of trials the contestant wins is: 49.15%\n"
     ]
    }
   ],
   "source": [
    "#What is the overall percentage of the trials resulted in a win for the contestaant?\n",
    "#Set variable to count all the times where the contestant wins\n",
    "counter = 0\n",
    "#For every value of prize and final\n",
    "for i in range(1, len(data)):\n",
    "    #If the calues match add 1 to counter\n",
    "    if data[\"prize\"].values.item(i) == data[\"final\"].values.item(i):\n",
    "       counter += 1 \n",
    "#Total number of values in the table \n",
    "total = len(data)\n",
    "#Output\n",
    "print(\"The percentage of trials the contestant wins is: \" + str(round((counter/total)*100, 2)) + \"%\")\n"
   ]
  },
  {
   "cell_type": "code",
   "execution_count": 18,
   "metadata": {},
   "outputs": [
    {
     "name": "stdout",
     "output_type": "stream",
     "text": [
      "The percentage of trials the contestant wins by switching doors is: 66.03%\n"
     ]
    }
   ],
   "source": [
    "#What percentage of the trials where the contestant switched door resulted in a win\n",
    "#Set a variable to count where the contestant switched doors\n",
    "switchedCounter = 0\n",
    "#Set a variable to count where the contestant switched doors and won\n",
    "winCounter = 0\n",
    "#For every vale in the table\n",
    "for i in range(1, len(data)):\n",
    "    #If the intial value is not the same as the final then contestant switched\n",
    "    if data[\"initial\"].values.item(i) != data[\"final\"].values.item(i):\n",
    "        switchedCounter += 1\n",
    "        #If the prize equals final add 1 to counter\n",
    "        if data[\"prize\"].values.item(i) == data[\"final\"].values.item(i):\n",
    "            winCounter += 1\n",
    "        \n",
    "#Calculate total number of wins out of switched doors\n",
    "total = winCounter/switchedCounter\n",
    "#Output\n",
    "\n",
    "print(\"The percentage of trials the contestant wins by switching doors is: \" + str(round((total)*100, 2))+\"%\")"
   ]
  },
  {
   "cell_type": "code",
   "execution_count": 15,
   "metadata": {},
   "outputs": [
    {
     "name": "stdout",
     "output_type": "stream",
     "text": [
      "The percentage of trials the contestat wins by staying is: 32.0%\n"
     ]
    }
   ],
   "source": [
    "#What is the percentage of the trials where the contestant  stayed with their initial choice and won\n",
    "#Set variable to count when the contestant stayed with their choice\n",
    "switchedCounter = 0\n",
    "#Set variable to count when the contestant won\n",
    "winCounter = 0\n",
    "#For every value in the table\n",
    "for i in range(1, len(data)):\n",
    "    #If the intial value is the same as final then contestant stayed \n",
    "    if data[\"initial\"].values.item(i) == data[\"final\"].values.item(i):\n",
    "        switchedCounter +=1\n",
    "        #if prize equals final then add 1 to counter\n",
    "        if data[\"prize\"].values.item(i) == data[\"final\"].values.item(i):\n",
    "            winCounter += 1\n",
    "        \n",
    "#Total number of time switched\n",
    "total = switchedCounter\n",
    "\n",
    "print(\"The percentage of trials the contestat wins by staying is: \" + str(round((winCounter/total)*100, 2))+\"%\")"
   ]
  },
  {
   "cell_type": "code",
   "execution_count": null,
   "metadata": {
    "collapsed": true
   },
   "outputs": [],
   "source": []
  },
  {
   "cell_type": "code",
   "execution_count": null,
   "metadata": {
    "collapsed": true
   },
   "outputs": [],
   "source": []
  },
  {
   "cell_type": "code",
   "execution_count": null,
   "metadata": {
    "collapsed": true
   },
   "outputs": [],
   "source": []
  },
  {
   "cell_type": "code",
   "execution_count": null,
   "metadata": {
    "collapsed": true
   },
   "outputs": [],
   "source": []
  },
  {
   "cell_type": "code",
   "execution_count": null,
   "metadata": {
    "collapsed": true
   },
   "outputs": [],
   "source": []
  },
  {
   "cell_type": "code",
   "execution_count": null,
   "metadata": {
    "collapsed": true
   },
   "outputs": [],
   "source": []
  }
 ],
 "metadata": {
  "kernelspec": {
   "display_name": "Python 3",
   "language": "python",
   "name": "python3"
  },
  "language_info": {
   "codemirror_mode": {
    "name": "ipython",
    "version": 3
   },
   "file_extension": ".py",
   "mimetype": "text/x-python",
   "name": "python",
   "nbconvert_exporter": "python",
   "pygments_lexer": "ipython3",
   "version": "3.6.1"
  }
 },
 "nbformat": 4,
 "nbformat_minor": 2
}
